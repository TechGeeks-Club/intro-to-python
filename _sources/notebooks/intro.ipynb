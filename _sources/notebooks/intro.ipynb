{
 "cells": [
  {
   "cell_type": "markdown",
   "metadata": {},
   "source": [
    "## 2. python basics\n",
    "\n",
    "### 2.1. my first python code\n",
    "\n"
   ]
  },
  {
   "cell_type": "code",
   "execution_count": null,
   "metadata": {},
   "outputs": [],
   "source": [
    "print(\"hello world\")"
   ]
  },
  {
   "cell_type": "markdown",
   "metadata": {},
   "source": [
    "### 2.2. Data Types & Variables\n",
    "#### Primitive Data Types in Python:\n",
    "- Integer (`int`): Whole numbers, both positive and negative, without decimals.\n",
    "    - Example: `5`, `-3`, `100`\n",
    "- Float (`float`): Numbers with decimal points.\n",
    "    - Example: `3.14`, `-2.5`, `0.1`\n",
    "- String (`str`): A sequence of characters (text), enclosed in either single or double quotes.\n",
    "    - Example: `\"Hello\"`, `'Python'`\n",
    "- Boolean (`bool`): Represents either True or False.\n",
    "    - Example: `True`, `False`\n",
    "- None (`NoneType`): Represents the absence of a value or a null value.\n",
    "    - Example: `None`\n",
    "  \n",
    "\n",
    "#### How to Define Variables ?\n",
    "In Python, defining a variable is simple. You can assign a value to a variable using the = operator. Python automatically infers the type based on the value assigned.\n",
    "\n"
   ]
  },
  {
   "cell_type": "code",
   "execution_count": 1,
   "metadata": {},
   "outputs": [
    {
     "name": "stdout",
     "output_type": "stream",
     "text": [
      "Name: amar\n",
      "Age: 50\n",
      "Height: 1.5\n",
      "Is Student: True\n",
      "Favorite Food: None\n"
     ]
    }
   ],
   "source": [
    "age = 50             # Integer (int)\n",
    "height = 1.5         # Float (float)\n",
    "name = \"amar\"        # String (str)\n",
    "is_student = True    # Boolean (bool)\n",
    "favorite_food = None # NoneType (None)\n",
    "\n",
    "print(\"Name:\", name)\n",
    "print(\"Age:\", age)\n",
    "print(\"Height:\", height)\n",
    "print(\"Is Student:\", is_student)\n",
    "print(\"Favorite Food:\", favorite_food)  \n"
   ]
  },
  {
   "cell_type": "markdown",
   "metadata": {},
   "source": [
    "#### Get the function of a varible\n",
    "You can get the data type of a variable with the `type()` function.\n",
    "\n"
   ]
  },
  {
   "cell_type": "code",
   "execution_count": null,
   "metadata": {},
   "outputs": [],
   "source": [
    "x = 5\n",
    "y = 5.0\n",
    "print(type(x))\n",
    "print(type(y))"
   ]
  },
  {
   "cell_type": "markdown",
   "metadata": {},
   "source": [
    "####  Type Conversion (Casting)\n",
    "Sometimes, you may want to convert one data type to another. In Python, this can be done using type casting. Here’s how to do it:"
   ]
  },
  {
   "cell_type": "code",
   "execution_count": 8,
   "metadata": {},
   "outputs": [
    {
     "name": "stdout",
     "output_type": "stream",
     "text": [
      "3\n",
      "10\n",
      "True\n"
     ]
    }
   ],
   "source": [
    "#1. convert int to float\n",
    "x = 3.14\n",
    "x_int = int(x)  # Converts to integer (3)\n",
    "print(x_int)\n",
    "\n",
    "# convert int to string\n",
    "z = 10\n",
    "z_str = str(z)  # Converts to string (\"10\")\n",
    "print(z_str)\n",
    "\n",
    "# convert string to boolean\n",
    "a = \"abc\"\n",
    "a_bool = bool(a) \n",
    "print(a_bool)\n",
    "\n"
   ]
  },
  {
   "cell_type": "markdown",
   "metadata": {},
   "source": [
    "```{note}\n",
    ":class: dropdown\n",
    "try to cast the string \"False\" to a boolean, but before , in your opinion what is resault ?\n",
    "```"
   ]
  },
  {
   "cell_type": "markdown",
   "metadata": {},
   "source": [
    "### 2.3 Operators\n",
    "- Arithmetic Operators\n",
    "Used to perform basic mathematical operations.\n",
    "  - `+` (Addition): Adds two numbers.\n",
    "  - `-` (Subtraction): Subtracts the second number from the first.\n",
    "  - `*` (Multiplication): Multiplies two numbers.\n",
    "  - `/` (Division): Divides the first number by the second.\n",
    "  - `//` (Floor Division): Divides and returns the largest integer less than or equal to the result.\n",
    "  - `%` (Modulus): Returns the remainder of a division.\n",
    "  - `**` (Exponentiation): Raises the first number to the power of the second.\n",
    "\n",
    "**Examples:**\n"
   ]
  },
  {
   "cell_type": "code",
   "execution_count": null,
   "metadata": {},
   "outputs": [],
   "source": [
    "a = 10\n",
    "b = 3\n",
    "print(\"Addition:\", a + b)         # 13\n",
    "print(\"Subtraction:\", a - b)      # 7\n",
    "print(\"Multiplication:\", a * b)   # 30\n",
    "print(\"Division:\", a / b)         # 3.333...\n",
    "print(\"Floor Division:\", a // b)  # 3\n",
    "print(\"Modulus:\", a % b)          # 1\n",
    "print(\"Exponentiation:\", a ** b)  # 1000\n"
   ]
  },
  {
   "cell_type": "markdown",
   "metadata": {},
   "source": [
    "- Comparison Operators\n",
    "Used to compare two values and return a boolean (True or False).\n",
    "\n",
    "  - `==` (Equal): Checks if two values are equal.\n",
    "  - `!=` (Not Equal): Checks if two values are not equal.\n",
    "  - `>`(Greater Than): Checks if the first value is greater than the second.\n",
    "  - `<`(Less Than): Checks if the first value is less than the second.\n",
    "  - `>=` (Greater Than or Equal To).\n",
    "  - `<=` (Less Than or Equal To).\n",
    "  \n",
    "  \n",
    "**Examples:**"
   ]
  },
  {
   "cell_type": "code",
   "execution_count": null,
   "metadata": {},
   "outputs": [],
   "source": [
    "x = 5\n",
    "y = 10\n",
    "print(\"x equals y:\", x == y)      # False\n",
    "print(\"x not equals y:\", x != y)  # True\n",
    "print(\"x greater than y:\", x > y) # False\n",
    "print(\"x less than y:\", x < y)    # True"
   ]
  },
  {
   "cell_type": "markdown",
   "metadata": {},
   "source": [
    "- Logical Operators\n",
    "Used to combine conditional statements.\n",
    "\n",
    "  - `and`: Returns True if both conditions are true.\n",
    "  - `or` : Returns True if at least one condition is true.\n",
    "  - `not`: Reverses the boolean value.\n",
    "\n",
    "**Examples:**"
   ]
  },
  {
   "cell_type": "code",
   "execution_count": null,
   "metadata": {},
   "outputs": [],
   "source": [
    "a = True\n",
    "b = False\n",
    "print(\"a and b:\", a and b) # False\n",
    "print(\"a or b:\", a or b)   # True\n",
    "print(\"not a:\", not a)     # False\n"
   ]
  },
  {
   "cell_type": "markdown",
   "metadata": {},
   "source": [
    "```{admonition} Tip\n",
    ":class: tip, dropdown\n",
    "you can use special assignment operators like `+=` , `-=`, `*=`, `/=`, `%=`, `//=`, `**=`\n",
    "```python\n",
    "x = 5\n",
    "x += 3  # Same as x = x + 3\n",
    "print(\"x after += 3:\", x) # 8\n",
    "x *= 2  # Same as x = x * 2\n",
    "print(\"x after *= 2:\", x) # 16\n",
    "```\n",
    "\n",
    "```"
   ]
  },
  {
   "cell_type": "markdown",
   "metadata": {},
   "source": [
    "### 2.4 Conditions \n",
    "Conditional statements allow the program to make decisions based on certain conditions."
   ]
  },
  {
   "cell_type": "code",
   "execution_count": null,
   "metadata": {},
   "outputs": [],
   "source": [
    "is_raining = True\n",
    "if is_raining: # means if is_raining == True\n",
    "    print(\"Take an umbrella.\")\n",
    "else:\n",
    "    print(\"Do not take an umbrella.\")"
   ]
  },
  {
   "cell_type": "code",
   "execution_count": null,
   "metadata": {},
   "outputs": [],
   "source": [
    "score = 85\n",
    "if score >= 90:\n",
    "    print(\"Grade: A\")\n",
    "elif score >= 75:\n",
    "    print(\"Grade: B\")\n",
    "else:\n",
    "    print(\"Grade: C\")"
   ]
  },
  {
   "cell_type": "markdown",
   "metadata": {},
   "source": [
    "### 2.5 Loops"
   ]
  },
  {
   "cell_type": "markdown",
   "metadata": {},
   "source": [
    "#### 1. for Loop\n",
    "Used for iterating over a sequence (list, tuple, string, etc.).\n",
    "\n"
   ]
  },
  {
   "cell_type": "code",
   "execution_count": null,
   "metadata": {},
   "outputs": [
    {
     "name": "stdout",
     "output_type": "stream",
     "text": [
      "1\n",
      "2\n",
      "3\n",
      "4\n",
      "5\n",
      "<class 'range'>\n"
     ]
    }
   ],
   "source": [
    "for i in range(1, 6):\n",
    "    print(i)"
   ]
  },
  {
   "cell_type": "markdown",
   "metadata": {},
   "source": [
    "#### 2. while Loop"
   ]
  },
  {
   "cell_type": "markdown",
   "metadata": {},
   "source": [
    "Repeats as long as a condition is true."
   ]
  },
  {
   "cell_type": "code",
   "execution_count": 9,
   "metadata": {},
   "outputs": [
    {
     "name": "stdout",
     "output_type": "stream",
     "text": [
      "5\n",
      "4\n",
      "3\n",
      "2\n",
      "1\n"
     ]
    }
   ],
   "source": [
    "# Example: Counting down\n",
    "count = 5\n",
    "while count > 0:\n",
    "    print(count)\n",
    "    count -= 1"
   ]
  },
  {
   "cell_type": "markdown",
   "metadata": {},
   "source": [
    "### 2.6 Input/Output"
   ]
  },
  {
   "cell_type": "code",
   "execution_count": null,
   "metadata": {},
   "outputs": [],
   "source": [
    "user_name = input(\"Enter your name: \")\n",
    "user_age = input(\"Enter your age: \")\n",
    "\n",
    "print(\"User Name:\", user_name)\n",
    "print(\"User Age:\", user_age)"
   ]
  }
 ],
 "metadata": {
  "kernelspec": {
   "display_name": "Python 3",
   "language": "python",
   "name": "python3"
  },
  "language_info": {
   "codemirror_mode": {
    "name": "ipython",
    "version": 3
   },
   "file_extension": ".py",
   "mimetype": "text/x-python",
   "name": "python",
   "nbconvert_exporter": "python",
   "pygments_lexer": "ipython3",
   "version": "3.12.2"
  }
 },
 "nbformat": 4,
 "nbformat_minor": 2
}
