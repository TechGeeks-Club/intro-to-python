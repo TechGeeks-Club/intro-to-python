{
 "cells": [
  {
   "cell_type": "markdown",
   "metadata": {},
   "source": [
    "## 2. python basics\n",
    "\n",
    "### 2.1. my first python code\n",
    "\n"
   ]
  },
  {
   "cell_type": "code",
   "execution_count": null,
   "metadata": {},
   "outputs": [],
   "source": [
    "print(\"hello world\")"
   ]
  },
  {
   "cell_type": "markdown",
   "metadata": {},
   "source": [
    "### 2.2. Data Types & Variables\n",
    "#### Primitive Data Types in Python:\n",
    "- Integer (`int`): Whole numbers, both positive and negative, without decimals.\n",
    "    - Example: `5`, `-3`, `100`\n",
    "- Float (`float`): Numbers with decimal points.\n",
    "    - Example: `3.14`, `-2.5`, `0.1`\n",
    "- String (`str`): A sequence of characters (text), enclosed in either single or double quotes.\n",
    "    - Example: `\"Hello\"`, `'Python'`\n",
    "- Boolean (`bool`): Represents either True or False.\n",
    "    - Example: `True`, `False`\n",
    "- None (`NoneType`): Represents the absence of a value or a null value.\n",
    "    - Example: `None`\n",
    "  \n",
    "\n",
    "#### How to Define Variables ?\n",
    "In Python, defining a variable is simple. You can assign a value to a variable using the = operator. Python automatically infers the type based on the value assigned.\n",
    "\n"
   ]
  },
  {
   "cell_type": "code",
   "execution_count": 1,
   "metadata": {},
   "outputs": [
    {
     "name": "stdout",
     "output_type": "stream",
     "text": [
      "Name: amar\n",
      "Age: 50\n",
      "Height: 1.5\n",
      "Is Student: True\n",
      "Favorite Food: None\n"
     ]
    }
   ],
   "source": [
    "age = 50             # Integer (int)\n",
    "height = 1.5         # Float (float)\n",
    "name = \"amar\"        # String (str)\n",
    "is_student = True    # Boolean (bool)\n",
    "favorite_food = None # NoneType (None)\n",
    "\n",
    "print(\"Name:\", name)\n",
    "print(\"Age:\", age)\n",
    "print(\"Height:\", height)\n",
    "print(\"Is Student:\", is_student)\n",
    "print(\"Favorite Food:\", favorite_food)  \n"
   ]
  },
  {
   "cell_type": "markdown",
   "metadata": {},
   "source": [
    "```{admonition} Tip\n",
    ":class: tip, dropdown\n",
    "you can change the type or the value of the variable any time with any type\n",
    "    ```python\n",
    "    x = 10 # int\n",
    "    x = \"hello\" #string\n",
    "    ```\n",
    "```"
   ]
  },
  {
   "cell_type": "markdown",
   "metadata": {},
   "source": [
    "#### Get the function of a varible\n",
    "You can get the data type of a variable with the `type()` function.\n",
    "\n"
   ]
  },
  {
   "cell_type": "code",
   "execution_count": null,
   "metadata": {},
   "outputs": [],
   "source": [
    "x = 5\n",
    "y = 5.0\n",
    "print(type(x))\n",
    "print(type(y))"
   ]
  },
  {
   "cell_type": "markdown",
   "metadata": {},
   "source": [
    "####  Type Conversion (Casting)\n",
    "Sometimes, you may want to convert one data type to another. In Python, this can be done using type casting. Here’s how to do it:"
   ]
  },
  {
   "cell_type": "code",
   "execution_count": 8,
   "metadata": {},
   "outputs": [
    {
     "name": "stdout",
     "output_type": "stream",
     "text": [
      "3\n",
      "10\n",
      "True\n"
     ]
    }
   ],
   "source": [
    "#1. convert int to float\n",
    "x = 3.14\n",
    "x_int = int(x)  # Converts to integer (3)\n",
    "print(x_int)\n",
    "\n",
    "# convert int to string\n",
    "z = 10\n",
    "z_str = str(z)  # Converts to string (\"10\")\n",
    "print(z_str)\n",
    "\n",
    "# convert string to boolean\n",
    "a = \"abc\"\n",
    "a_bool = bool(a) \n",
    "print(a_bool)\n",
    "\n"
   ]
  },
  {
   "cell_type": "markdown",
   "metadata": {},
   "source": [
    "```{note}\n",
    ":class: dropdown\n",
    "try to cast the string \"False\" to a boolean, but before , in your opinion what is resault ?\n",
    "```"
   ]
  },
  {
   "cell_type": "markdown",
   "metadata": {},
   "source": [
    "### 2.3 Operators\n",
    "#### Arithmetic Operators\n",
    "Used to perform basic mathematical operations.\n",
    "  - `+` (Addition): Adds two numbers.\n",
    "  - `-` (Subtraction): Subtracts the second number from the first.\n",
    "  - `*` (Multiplication): Multiplies two numbers.\n",
    "  - `/` (Division): Divides the first number by the second.\n",
    "  - `//` (Floor Division): Divides and returns the largest integer less than or equal to the result.\n",
    "  - `%` (Modulus): Returns the remainder of a division.\n",
    "  - `**` (Exponentiation): Raises the first number to the power of the second.\n",
    "\n",
    "**Examples:**\n"
   ]
  },
  {
   "cell_type": "code",
   "execution_count": null,
   "metadata": {},
   "outputs": [],
   "source": [
    "a = 10\n",
    "b = 3\n",
    "print(\"Addition:\", a + b)         # 13\n",
    "print(\"Subtraction:\", a - b)      # 7\n",
    "print(\"Multiplication:\", a * b)   # 30\n",
    "print(\"Division:\", a / b)         # 3.333...\n",
    "print(\"Floor Division:\", a // b)  # 3\n",
    "print(\"Modulus:\", a % b)          # 1\n",
    "print(\"Exponentiation:\", a ** b)  # 1000\n"
   ]
  },
  {
   "cell_type": "markdown",
   "metadata": {},
   "source": [
    "#### Comparison Operators\n",
    "Used to compare two values and return a boolean (True or False).\n",
    "\n",
    "  - `==` (Equal): Checks if two values are equal.\n",
    "  - `!=` (Not Equal): Checks if two values are not equal.\n",
    "  - `>`(Greater Than): Checks if the first value is greater than the second.\n",
    "  - `<`(Less Than): Checks if the first value is less than the second.\n",
    "  - `>=` (Greater Than or Equal To).\n",
    "  - `<=` (Less Than or Equal To).\n",
    "  \n",
    "  \n",
    "**Examples:**"
   ]
  },
  {
   "cell_type": "code",
   "execution_count": null,
   "metadata": {},
   "outputs": [],
   "source": [
    "x = 5\n",
    "y = 10\n",
    "print(\"x equals y:\", x == y)      # False\n",
    "print(\"x not equals y:\", x != y)  # True\n",
    "print(\"x greater than y:\", x > y) # False\n",
    "print(\"x less than y:\", x < y)    # True"
   ]
  },
  {
   "cell_type": "markdown",
   "metadata": {},
   "source": [
    "#### Logical Operators\n",
    "Used to combine conditional statements.\n",
    "\n",
    "  - `and`: Returns True if both conditions are true.\n",
    "  - `or` : Returns True if at least one condition is true.\n",
    "  - `not`: Reverses the boolean value.\n",
    "\n",
    "**Examples:**"
   ]
  },
  {
   "cell_type": "code",
   "execution_count": null,
   "metadata": {},
   "outputs": [],
   "source": [
    "a = True\n",
    "b = False\n",
    "print(\"a and b:\", a and b) # False\n",
    "print(\"a or b:\", a or b)   # True\n",
    "print(\"not a:\", not a)     # False\n"
   ]
  },
  {
   "cell_type": "markdown",
   "metadata": {},
   "source": [
    "```{admonition} Tip\n",
    ":class: tip, dropdown\n",
    "you can use special assignment operators like `+=` , `-=`, `*=`, `/=`, `%=`, `//=`, `**=`\n",
    "```python\n",
    "x = 5\n",
    "x += 3  # Same as x = x + 3\n",
    "print(\"x after += 3:\", x) # 8\n",
    "x *= 2  # Same as x = x * 2\n",
    "print(\"x after *= 2:\", x) # 16\n",
    "```\n",
    "\n",
    "```"
   ]
  },
  {
   "cell_type": "markdown",
   "metadata": {},
   "source": [
    "### 2.4 Conditions \n",
    "Conditional statements allow the program to make decisions based on certain conditions."
   ]
  },
  {
   "cell_type": "code",
   "execution_count": null,
   "metadata": {},
   "outputs": [],
   "source": [
    "is_raining = True\n",
    "if is_raining: # means if is_raining == True\n",
    "    print(\"Take an umbrella.\")\n",
    "else:\n",
    "    print(\"Do not take an umbrella.\")"
   ]
  },
  {
   "cell_type": "code",
   "execution_count": null,
   "metadata": {},
   "outputs": [],
   "source": [
    "score = 85\n",
    "if score >= 90:\n",
    "    print(\"Grade: A\")\n",
    "elif score >= 75:\n",
    "    print(\"Grade: B\")\n",
    "else:\n",
    "    print(\"Grade: C\")"
   ]
  },
  {
   "cell_type": "markdown",
   "metadata": {},
   "source": [
    "### 2.5 Loops"
   ]
  },
  {
   "cell_type": "markdown",
   "metadata": {},
   "source": [
    "#### 1. for Loop\n",
    "Used for iterating over a sequence (list, tuple, string, etc.).\n",
    "\n",
    "**Syntax:**\n",
    "\n",
    "```python\n",
    "for variable(s) in <Sequence>:\n",
    "    # do something\n",
    "```\n",
    "\n",
    "**Exemple:**"
   ]
  },
  {
   "cell_type": "code",
   "execution_count": null,
   "metadata": {},
   "outputs": [
    {
     "name": "stdout",
     "output_type": "stream",
     "text": [
      "1\n",
      "2\n",
      "3\n",
      "4\n",
      "5\n",
      "<class 'range'>\n"
     ]
    }
   ],
   "source": [
    "for i in range(1, 6):\n",
    "    print(i)"
   ]
  },
  {
   "cell_type": "markdown",
   "metadata": {},
   "source": [
    "#### 2. while Loop"
   ]
  },
  {
   "cell_type": "markdown",
   "metadata": {},
   "source": [
    "Repeats as long as a condition is true.\n",
    "\n",
    "**Syntax:**\n",
    "\n",
    "```python\n",
    "while [condition] :\n",
    "    # DO SOMETHING\n",
    "\n",
    "```\n",
    "\n",
    "**Exemple:**"
   ]
  },
  {
   "cell_type": "code",
   "execution_count": 9,
   "metadata": {},
   "outputs": [
    {
     "name": "stdout",
     "output_type": "stream",
     "text": [
      "5\n",
      "4\n",
      "3\n",
      "2\n",
      "1\n"
     ]
    }
   ],
   "source": [
    "# Example: Counting down\n",
    "count = 5\n",
    "while count > 0:\n",
    "    print(count)\n",
    "    count -= 1"
   ]
  },
  {
   "cell_type": "markdown",
   "metadata": {},
   "source": [
    "### 2.6 Input/Output"
   ]
  },
  {
   "cell_type": "markdown",
   "metadata": {},
   "source": [
    "to ask the user to enter a value you can use `input` function"
   ]
  },
  {
   "cell_type": "code",
   "execution_count": null,
   "metadata": {},
   "outputs": [],
   "source": [
    "user_name = input(\"Enter your name: \")\n",
    "user_age = input(\"Enter your age: \")\n",
    "\n",
    "print(\"User Name:\", user_name)\n",
    "print(\"User Age:\", user_age)"
   ]
  },
  {
   "cell_type": "markdown",
   "metadata": {},
   "source": [
    "### 2.7 Funcions\n",
    "A function is a block of code that performs a specific task. Instead of writing the same code multiple times, you can define a function and call it whenever needed.\n",
    "They help to organize and reuse code efficiently.\n",
    "\n",
    "**Syntax :**\n",
    "```python\n",
    "def function_name(parameters):\n",
    "    # Code block (body of the function)\n",
    "    return value  # Optional\n",
    "```\n",
    "\n",
    "**Exemples :**"
   ]
  },
  {
   "cell_type": "code",
   "execution_count": null,
   "metadata": {},
   "outputs": [],
   "source": [
    "# Basic function\n",
    "def say_hello():\n",
    "    print(\"Hello, welcome to the Python workshop!\")\n",
    "    \n",
    "say_hello() # Output: Hello, welcome to the Python workshop!\n",
    "\n",
    "\n",
    "# Function with parameters\n",
    "def hello(name):\n",
    "    print(\"Hello,\", name)\n",
    "\n",
    "hello(\"amar\") # Output: Hello, amar\n",
    "\n",
    "\n",
    "# Function with return value\n",
    "def add(a, b):\n",
    "    x = a + b\n",
    "    return x\n",
    "\n",
    "result = add(5, 3)\n",
    "print(result) # Output: 8\n",
    "\n",
    "\n",
    "\n",
    "# Function with default parameter\n",
    "def hello_2(name=\"Guest\"):\n",
    "    print(\"Hello,\", name)"
   ]
  },
  {
   "cell_type": "markdown",
   "metadata": {},
   "source": [
    "### Exercises: \n",
    "\n",
    "\n",
    "#### Ex0 : Print Positive Even Numbers\n",
    "\n",
    "**Objective:**\n",
    "Ask the user to input an integer and print all positive even numbers from 0 to the inputted value.\n",
    "\n",
    "**Note :** \n",
    "The user input should be grater than 0 and less than 1000\n",
    "\n",
    "**Example:**\n",
    "If the user inputs `10`, the output should be:\n",
    "`0 2 4 6 8`\n",
    "\n",
    "\n",
    "#### Ex1 : Print Positive Even Numbers\n",
    "\n",
    "**Objective:**\n",
    "do the same previous exercice but this time print the numbers in descending order\n",
    "**Example:**\n",
    "If the user inputs `10`, the output should be:\n",
    "`8 6 4 2 0`"
   ]
  },
  {
   "cell_type": "markdown",
   "metadata": {},
   "source": [
    "#### Ex2: Grade Average Calculator\n",
    "\n",
    "**Objective:**\n",
    "Create a grade average calculator for a module. The calculator should ask the user if the module contains TP (practical work). If yes, then the TP and TD (tutorial) are 20% each, and the exam is 60%. Otherwise, the TD is 40% and the exam is 60%. The calculator should then ask the user for their grades in the exam, TD, and TP (if applicable), and calculate the final grade. Note that the grades should be between 0 and 20.\n",
    "\n",
    "\n",
    "**Example:**\n",
    "If the module contains TP and the user enters the following grades:\n",
    "- Exam: 15\n",
    "- TD: 18\n",
    "- TP: 17.5\n",
    "\n",
    "The final grade will be calculated as:\n",
    "`Final Grade = (Exam * 0.6) + (TD * 0.2) + (TP * 0.2)`\n"
   ]
  }
 ],
 "metadata": {
  "kernelspec": {
   "display_name": "Python 3",
   "language": "python",
   "name": "python3"
  },
  "language_info": {
   "codemirror_mode": {
    "name": "ipython",
    "version": 3
   },
   "file_extension": ".py",
   "mimetype": "text/x-python",
   "name": "python",
   "nbconvert_exporter": "python",
   "pygments_lexer": "ipython3",
   "version": "3.12.2"
  }
 },
 "nbformat": 4,
 "nbformat_minor": 2
}
