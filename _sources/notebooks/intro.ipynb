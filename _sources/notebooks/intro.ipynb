{
 "cells": [
  {
   "cell_type": "markdown",
   "metadata": {},
   "source": [
    "# Introduction To Python\n",
    "\n",
    "## 1. setup the enviroment\n",
    "- for linux \n",
    "  - ```bash\n",
    "    sudo apt install python3.13\n",
    "    ```\n",
    "- for Windows/mac\n",
    "  - go to this link : https://www.python.org/downloads/\n",
    "  - select your os\n",
    "  - download the installer"
   ]
  },
  {
   "cell_type": "markdown",
   "metadata": {},
   "source": [
    "## 2. python basics\n",
    "\n",
    "### 1 my first python code\n",
    "\n"
   ]
  },
  {
   "cell_type": "code",
   "execution_count": null,
   "metadata": {},
   "outputs": [],
   "source": [
    "print(\"hello world\")"
   ]
  },
  {
   "cell_type": "markdown",
   "metadata": {},
   "source": [
    "### 2. Data Types & Variables\n",
    "#### Primitive Data Types in Python:\n",
    "- Integer (`int`): Whole numbers, both positive and negative, without decimals.\n",
    "    - Example: `5`, `-3`, `100`\n",
    "- Float (`float`): Numbers with decimal points.\n",
    "    - Example: `3.14`, `-2.5`, `0.1`\n",
    "- String (`str`): A sequence of characters (text), enclosed in either single or double quotes.\n",
    "    - Example: `\"Hello\"`, `'Python'`\n",
    "- Boolean (`bool`): Represents either True or False.\n",
    "    - Example: `True`, `False`\n",
    "- None (`NoneType`): Represents the absence of a value or a null value.\n",
    "    - Example: `None`\n",
    "  \n",
    "\n",
    "#### How to Define Variables ?\n",
    "In Python, defining a variable is simple. You can assign a value to a variable using the = operator. Python automatically infers the type based on the value assigned.\n",
    "\n"
   ]
  },
  {
   "cell_type": "code",
   "execution_count": 1,
   "metadata": {},
   "outputs": [
    {
     "name": "stdout",
     "output_type": "stream",
     "text": [
      "Name: amar\n",
      "Age: 50\n",
      "Height: 1.5\n",
      "Is Student: True\n",
      "Favorite Food: None\n"
     ]
    }
   ],
   "source": [
    "age = 50             # Integer (int)\n",
    "height = 1.5         # Float (float)\n",
    "name = \"amar\"        # String (str)\n",
    "is_student = True    # Boolean (bool)\n",
    "favorite_food = None # NoneType (None)\n",
    "\n",
    "print(\"Name:\", name)\n",
    "print(\"Age:\", age)\n",
    "print(\"Height:\", height)\n",
    "print(\"Is Student:\", is_student)\n",
    "print(\"Favorite Food:\", favorite_food)  \n"
   ]
  },
  {
   "cell_type": "markdown",
   "metadata": {},
   "source": [
    "#### Get the function of a varible\n",
    "You can get the data type of a variable with the `type()` function.\n",
    "\n"
   ]
  },
  {
   "cell_type": "code",
   "execution_count": null,
   "metadata": {},
   "outputs": [],
   "source": [
    "x = 5\n",
    "y = 5.0\n",
    "print(type(x))\n",
    "print(type(y))"
   ]
  },
  {
   "cell_type": "markdown",
   "metadata": {},
   "source": [
    "####  Type Conversion (Casting)\n",
    "Sometimes, you may want to convert one data type to another. In Python, this can be done using type casting. Here’s how to do it:"
   ]
  },
  {
   "cell_type": "code",
   "execution_count": null,
   "metadata": {},
   "outputs": [
    {
     "name": "stdout",
     "output_type": "stream",
     "text": [
      "3\n",
      "10\n",
      "True\n"
     ]
    }
   ],
   "source": [
    "#1. convert int to float\n",
    "x = 3.14\n",
    "x_int = int(x)  # Converts to integer (3)\n",
    "print(x_int)\n",
    "\n",
    "# convert int to string\n",
    "z = 10\n",
    "z_str = str(z)  # Converts to string (\"10\")\n",
    "print(z_str)\n",
    "\n",
    "# convert string to boolean\n",
    "a = \"abc\"\n",
    "a_bool = bool(a) \n",
    "print(a_bool)\n"
   ]
  },
  {
   "cell_type": "markdown",
   "metadata": {},
   "source": [
    "```{note}\n",
    ":class: dropdown\n",
    "The note body will be hidden!\n",
    "```"
   ]
  },
  {
   "cell_type": "code",
   "execution_count": null,
   "metadata": {},
   "outputs": [],
   "source": []
  }
 ],
 "metadata": {
  "kernelspec": {
   "display_name": "Python 3",
   "language": "python",
   "name": "python3"
  },
  "language_info": {
   "codemirror_mode": {
    "name": "ipython",
    "version": 3
   },
   "file_extension": ".py",
   "mimetype": "text/x-python",
   "name": "python",
   "nbconvert_exporter": "python",
   "pygments_lexer": "ipython3",
   "version": "3.12.2"
  }
 },
 "nbformat": 4,
 "nbformat_minor": 2
}
