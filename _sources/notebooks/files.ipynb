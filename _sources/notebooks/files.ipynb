{
 "cells": [
  {
   "cell_type": "markdown",
   "metadata": {},
   "source": [
    "\n",
    "## Manipulating Files in Python\n",
    "Python makes it easy to work with files for tasks such as reading, writing, and appending data. Let's explore how to handle files step by step.\n",
    "\n",
    "---"
   ]
  },
  {
   "cell_type": "markdown",
   "metadata": {},
   "source": [
    "### 1. Opening and Closing Files\n",
    "\n",
    "To work with files, you need to open them using the open() function and specify the mode:\n",
    "\n",
    "- `r` → Read (default mode)\n",
    "- `w` → Write (overwrites file if it exists)\n",
    "- `a` → Append (adds data to the end of the file)\n",
    "- `x` → Create (fails if the file already exists)\n",
    "\n",
    "**Syntax:**\n",
    "\n",
    "```python\n",
    "file = open(\"filename.txt\", <mode>)  # Open the file\n",
    "file.close()  # Always close the file when done\n",
    "```\n",
    "Python also supports the with statement, which automatically closes the file:\n",
    "\n",
    "```python\n",
    "with open(\"filename.txt\", mode) as file:\n",
    "    # Perform file operations\n",
    "    pass  # File is automatically closed\n",
    "\n",
    "```"
   ]
  },
  {
   "cell_type": "code",
   "execution_count": null,
   "metadata": {},
   "outputs": [],
   "source": [
    "with open(\"example.txt\", \"r\") as file:\n",
    "    content = file.read()\n",
    "    print(content)\n"
   ]
  },
  {
   "cell_type": "markdown",
   "metadata": {},
   "source": [
    "### 2. Reading Files\n",
    "\n",
    "Reading the Entire File\n",
    "```python\n",
    "with open(\"example.txt\", \"r\") as file:\n",
    "    content = file.read()\n",
    "    print(content)\n",
    "```\n",
    "Reading Line by Line\n",
    "```python\n",
    "with open(\"example.txt\", \"r\") as file:\n",
    "    for line in file:\n",
    "        print(line.strip())  # Remove newline characters\n",
    "```\n",
    "Reading Specific Lines\n",
    "```python\n",
    "with open(\"example.txt\", \"r\") as file:\n",
    "    lines = file.readlines()  # Returns a list of lines\n",
    "    print(lines[0])  # Print the first line\n",
    "\n",
    "```"
   ]
  },
  {
   "cell_type": "markdown",
   "metadata": {},
   "source": [
    "#### Writing to Files\n",
    "Overwriting File Content\n",
    "```python\n",
    "with open(\"example.txt\", \"w\") as file:\n",
    "    file.write(\"This is a new line.\\n\")\n",
    "    file.write(\"Overwriting existing content.\")\n",
    "```\n",
    "Appending to a File\n",
    "```python\n",
    "with open(\"example.txt\", \"a\") as file:\n",
    "    file.write(\"\\nThis is an appended line.\")\n",
    "```"
   ]
  },
  {
   "cell_type": "markdown",
   "metadata": {},
   "source": [
    "---\n",
    "\n",
    "### Exercices\n",
    "\n",
    "\n",
    "\n",
    "##### EX2: Password Manager\n",
    "\n",
    "**Objective:**\n",
    "\n",
    "Refactor the old  password manager :\n",
    "instead of python data stcucture use a file to store data\n",
    "\n",
    "\n"
   ]
  }
 ],
 "metadata": {
  "language_info": {
   "name": "python"
  }
 },
 "nbformat": 4,
 "nbformat_minor": 2
}
