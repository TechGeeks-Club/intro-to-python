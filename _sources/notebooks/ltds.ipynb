{
 "cells": [
  {
   "cell_type": "markdown",
   "metadata": {},
   "source": [
    "## Lists, Tuples, Sets, and Dictionaries in Python\n",
    "\n",
    "\n",
    "\n",
    "Python offers a variety of data structures to store collections of data. Each of these structures serves a specific purpose, with unique characteristics and methods.\n",
    "\n",
    "---"
   ]
  },
  {
   "cell_type": "markdown",
   "metadata": {},
   "source": [
    "```{admonition} Tip\n",
    ":class: tip, dropdown\n",
    "Python's data structures, such as lists, tuples, and dictionaries, are dynamic. This means they can store elements of different data types within the same structure. Unlike some other programming languages that enforce strict typing for collections, Python provides the flexibility to mix data types.\n",
    "```python\n",
    "mixed_tuple = (42, \"Python\", 9.81, None, [1, 2, 3])\n",
    "```\n",
    "\n",
    "```"
   ]
  },
  {
   "cell_type": "markdown",
   "metadata": {},
   "source": [
    "### Lists\n",
    "\n",
    "A list is a mutable, ordered collection of items. Items can be of different data types."
   ]
  },
  {
   "cell_type": "code",
   "execution_count": null,
   "metadata": {},
   "outputs": [],
   "source": [
    "# Creating a list\n",
    "fruits = [\"apple\", \"banana\", \"cherry\"]\n",
    "numbers = [1, 2, 3, 4]\n",
    "mixed = [1, \"hello\", 3.5,True,[1,2,3],{'name':\"amar\"}]"
   ]
  },
  {
   "cell_type": "markdown",
   "metadata": {},
   "source": [
    "#### Indexing and Slicing\n",
    "Slicing allows you to extract a portion of a list by specifying a range.\n",
    "\n"
   ]
  },
  {
   "cell_type": "code",
   "execution_count": null,
   "metadata": {},
   "outputs": [],
   "source": [
    "numbers = [10, 20, 30, 40, 50]\n",
    "\n",
    "# Slicing from index 1 to 3 (exclusive)\n",
    "print(numbers[1:4])  # Output: [20, 30, 40]\n",
    "\n",
    "# Slicing with a step\n",
    "print(numbers[::2])  # Output: [10, 30, 50]\n",
    "\n",
    "# Reversing a list using slicing\n",
    "print(numbers[::-1])  # Output: [50, 40, 30, 20, 10]\n"
   ]
  },
  {
   "cell_type": "markdown",
   "metadata": {},
   "source": [
    "#### Common List Operations\n",
    "##### Basic Operations\n",
    "\n"
   ]
  },
  {
   "cell_type": "code",
   "execution_count": null,
   "metadata": {},
   "outputs": [],
   "source": [
    "fruits = [\"apple\", \"banana\", \"cherry\"]\n",
    "\n",
    "# ? Adding elements\n",
    "fruits.append(\"date\")  # Adds an item to the end\n",
    "fruits.extend([\"grapes\", \"mango\"])  # Adds multiple items to the end\n",
    "fruits.insert(1, \"kiwi\")  # Adds an item at a specific index\n",
    "\n",
    "# ? Removing elements\n",
    "fruits.remove(\"banana\")  # Removes a specific item\n",
    "popped_item = fruits.pop()  # Removes the last item and returns it\n",
    "\n",
    "# ? Checking membership\n",
    "print(\"apple\" in fruits)  # Output: True\n"
   ]
  },
  {
   "cell_type": "markdown",
   "metadata": {},
   "source": [
    "##### Iterating Through a List"
   ]
  },
  {
   "cell_type": "code",
   "execution_count": null,
   "metadata": {},
   "outputs": [],
   "source": [
    "fruits = [\"apple\", \"banana\", \"cherry\"]\n",
    "for fruit in fruits:\n",
    "    print(fruit)"
   ]
  },
  {
   "cell_type": "markdown",
   "metadata": {},
   "source": [
    "##### Sorting and Reversing\n"
   ]
  },
  {
   "cell_type": "code",
   "execution_count": null,
   "metadata": {},
   "outputs": [],
   "source": [
    "numbers = [4, 2, 9, 1]\n",
    "\n",
    "# Sorting\n",
    "numbers.sort()  # Sorts the list in ascending order\n",
    "numbers.sort(reverse=True)  # Sorts the list in descending order\n",
    "\n",
    "# Reversing\n",
    "numbers.reverse()  # Reverses the order of elements\n"
   ]
  },
  {
   "cell_type": "markdown",
   "metadata": {},
   "source": [
    "##### Finding the Length, Minimum, and Maximum"
   ]
  },
  {
   "cell_type": "code",
   "execution_count": null,
   "metadata": {},
   "outputs": [],
   "source": [
    "numbers = [10, 20, 30, 40]\n",
    "\n",
    "print(len(numbers))  # Output: 4\n",
    "print(min(numbers))  # Output: 10\n",
    "print(max(numbers))  # Output: 40\n"
   ]
  },
  {
   "cell_type": "markdown",
   "metadata": {},
   "source": [
    "### Tuples\n",
    "A `tuple` is similar to a `list`, but it is **immutable**, meaning once created, its elements cannot be modified (no adding, removing, or updating elements)."
   ]
  },
  {
   "cell_type": "markdown",
   "metadata": {},
   "source": [
    "#### Defining a Tuple"
   ]
  },
  {
   "cell_type": "code",
   "execution_count": null,
   "metadata": {},
   "outputs": [],
   "source": [
    "# Creating a tuple\n",
    "numbers = (1, 2, 3, 4)\n",
    "fruits = (\"apple\", \"banana\", \"cherry\")\n",
    "mixed = (10, \"hello\", True, 3.14,[1,2])\n"
   ]
  },
  {
   "cell_type": "markdown",
   "metadata": {},
   "source": [
    "```{admonition} Can We Sort a Tuple ?\n",
    ":class: note, dropdown\n",
    "Tuples are immutable, which means their contents cannot be changed once created. This includes sorting. However, you can sort a tuple by converting it into a list, sorting the list, and then converting it back to a tuple.\n",
    "\n",
    "```\n",
    "\n",
    "\n",
    "```{admonition} Question ?\n",
    ":class: note, dropdown\n",
    "lets say that we have:\n",
    "```python\n",
    "t = (1,3.14,True,[\"a\",\"b\"])\n",
    "\n",
    "t[-1].append(\"c\")\n",
    "```\n",
    "can we append the last array in \n",
    "```"
   ]
  },
  {
   "cell_type": "markdown",
   "metadata": {},
   "source": [
    "### Dictionaries\n",
    "\n",
    "A dictionary is a collection of key-value pairs that allows you to store and retrieve data efficiently. It is one of Python's most versatile and widely used data structures.\n",
    "\n",
    "**Syntax:**\n",
    "\n",
    "```python\n",
    "dict = {\n",
    "    key : value,\n",
    "    ...\n",
    "}\n",
    "```\n",
    "\n",
    "\n",
    "**Exemple:**"
   ]
  },
  {
   "cell_type": "code",
   "execution_count": null,
   "metadata": {},
   "outputs": [],
   "source": [
    "# Creating a dictionary\n",
    "student = {\n",
    "    \"name\": \"Alice\",\n",
    "    \"age\": 21,\n",
    "    \"grades\": [90, 85, 88],\n",
    "    \"is_graduated\": False\n",
    "}"
   ]
  },
  {
   "cell_type": "markdown",
   "metadata": {},
   "source": [
    "#### Accessing and Modifying Elements"
   ]
  },
  {
   "cell_type": "markdown",
   "metadata": {},
   "source": [
    "##### Accessing Values\n",
    "\n"
   ]
  },
  {
   "cell_type": "code",
   "execution_count": null,
   "metadata": {},
   "outputs": [],
   "source": [
    "# Access value using a key\n",
    "print(student[\"name\"])  # Output: Alice\n",
    "\n",
    "print(student.get(\"age\"))  # Output: 21\n",
    "print(student.get(\"gender\", \"Not specified\"))  # Output: Not specified\n",
    "\n"
   ]
  },
  {
   "cell_type": "markdown",
   "metadata": {},
   "source": [
    "##### modifying"
   ]
  },
  {
   "cell_type": "code",
   "execution_count": null,
   "metadata": {},
   "outputs": [],
   "source": [
    "student[\"age\"] = 22  # Updates the value of the key \"age\"\n",
    "student[\"major\"] = \"Computer Science\"  # Adds a new key-value pair"
   ]
  },
  {
   "cell_type": "markdown",
   "metadata": {},
   "source": [
    "##### Removeing"
   ]
  },
  {
   "cell_type": "code",
   "execution_count": 2,
   "metadata": {},
   "outputs": [
    {
     "ename": "NameError",
     "evalue": "name 'student' is not defined",
     "output_type": "error",
     "traceback": [
      "\u001b[1;31m---------------------------------------------------------------------------\u001b[0m",
      "\u001b[1;31mNameError\u001b[0m                                 Traceback (most recent call last)",
      "Cell \u001b[1;32mIn[2], line 1\u001b[0m\n\u001b[1;32m----> 1\u001b[0m \u001b[43mstudent\u001b[49m\u001b[38;5;241m.\u001b[39mpop(\u001b[38;5;124m\"\u001b[39m\u001b[38;5;124mgrades\u001b[39m\u001b[38;5;124m\"\u001b[39m)  \u001b[38;5;66;03m# Removes the key \"grades\"\u001b[39;00m\n\u001b[0;32m      2\u001b[0m \u001b[38;5;28;01mdel\u001b[39;00m student[\u001b[38;5;124m\"\u001b[39m\u001b[38;5;124mis_graduated\u001b[39m\u001b[38;5;124m\"\u001b[39m]  \u001b[38;5;66;03m# Removes the key \"is_graduated\"\u001b[39;00m\n",
      "\u001b[1;31mNameError\u001b[0m: name 'student' is not defined"
     ]
    }
   ],
   "source": [
    "student.pop(\"grades\")  # Removes the key \"grades\"\n",
    "del student[\"is_graduated\"]  # Removes the key \"is_graduated\""
   ]
  },
  {
   "cell_type": "markdown",
   "metadata": {},
   "source": [
    "#### Common Dictionary Methods"
   ]
  },
  {
   "cell_type": "code",
   "execution_count": null,
   "metadata": {},
   "outputs": [],
   "source": [
    "# Check if a key exists\n",
    "print(\"name\" in student)  # Output: True\n",
    "\n",
    "# Get all keys\n",
    "keys = student.keys()\n",
    "\n",
    "# Get all values\n",
    "values = student.values()\n",
    "\n",
    "# Get all key-value pairs\n",
    "items = student.items()\n",
    "\n",
    "# Clear all elements\n",
    "student.clear()\n"
   ]
  },
  {
   "cell_type": "markdown",
   "metadata": {},
   "source": [
    "#### Iterating Through a Dictionary"
   ]
  },
  {
   "cell_type": "code",
   "execution_count": null,
   "metadata": {},
   "outputs": [],
   "source": [
    "for key in student:\n",
    "    print(key)  # Prints all keys\n",
    "\n",
    "for value in student.values():\n",
    "    print(value)  # Prints all values\n",
    "\n",
    "for key, value in student.items():\n",
    "    print(f\"{key}: {value}\")  # Prints all key-value pairs\n"
   ]
  },
  {
   "cell_type": "markdown",
   "metadata": {},
   "source": [
    "#### Nested Dictionaries"
   ]
  },
  {
   "cell_type": "code",
   "execution_count": null,
   "metadata": {},
   "outputs": [],
   "source": [
    "university = {\n",
    "    \"department\": {\n",
    "        \"name\": \"Computer Science\",\n",
    "        \"head\": \"Dr. Smith\"\n",
    "    },\n",
    "    \"students\": [\n",
    "        {\"name\": \"Alice\", \"age\": 21},\n",
    "        {\"name\": \"Bob\", \"age\": 23}\n",
    "    ]\n",
    "}\n",
    "\n",
    "# Accessing nested dictionary values\n",
    "print(university[\"department\"][\"name\"])  # Output: Computer Science\n",
    "print(university[\"students\"][0][\"name\"])  # Output: Alice\n"
   ]
  },
  {
   "cell_type": "markdown",
   "metadata": {},
   "source": [
    "### **Comparison of Data Structures**\n",
    "\n",
    "| **Feature** | **List** | **Tuple** | **Set** | **Dictionary** | \n",
    "| --- | --- | --- | --- | --- | \n",
    "| **Ordered** | ✅ Yes | ✅ Yes | ❌ No | ✅ Yes (Python 3.7+) | \n",
    "| **Mutable** | ✅ Yes | ❌ No | ✅ Yes | ✅ Yes | \n",
    "| **Duplicates Allowed** | ✅ Yes | ✅ Yes | ❌ No | ❌ (Duplicate Keys) | \n",
    "| **Key-Value Pairs** | ❌ No | ❌ No | ❌ No | ✅ Yes |\n",
    "\n"
   ]
  },
  {
   "cell_type": "markdown",
   "metadata": {},
   "source": [
    "---\n",
    "\n",
    "### Exercices\n",
    "\n",
    "#### EX1: Palindrome\n",
    "\n",
    "**Objective:**\n",
    "write a program that sorts a tuple and remove duplicated values\n",
    "\n",
    "**Exemple :**\n",
    "\n",
    "Input: t = (4,1,4,2,3,5,5)\n",
    "\n",
    "Output: t = (1,2,3,4,5)\n"
   ]
  }
 ],
 "metadata": {
  "kernelspec": {
   "display_name": "Python 3",
   "language": "python",
   "name": "python3"
  },
  "language_info": {
   "codemirror_mode": {
    "name": "ipython",
    "version": 3
   },
   "file_extension": ".py",
   "mimetype": "text/x-python",
   "name": "python",
   "nbconvert_exporter": "python",
   "pygments_lexer": "ipython3",
   "version": "3.12.2"
  }
 },
 "nbformat": 4,
 "nbformat_minor": 2
}
