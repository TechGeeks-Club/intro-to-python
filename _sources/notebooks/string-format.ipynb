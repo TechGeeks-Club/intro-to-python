{
 "cells": [
  {
   "cell_type": "markdown",
   "metadata": {},
   "source": [
    "## 4. String Formatting"
   ]
  },
  {
   "cell_type": "markdown",
   "metadata": {},
   "source": [
    "#### The old way\n",
    "- Format Specifiers:\n",
    "\n",
    "  - `%s`: String\n",
    "  - `%d`: Integer\n",
    "  - `%f`: Float (use %.nf to specify number of decimal places)\n",
    "  - `%x`: Hexadecimal integer"
   ]
  },
  {
   "cell_type": "code",
   "execution_count": null,
   "metadata": {},
   "outputs": [],
   "source": [
    "name = \"Alice\"\n",
    "weight = 70.622\n",
    "\n",
    "# Using the % operator\n",
    "print(\"Hello, %s!\" % name)  # Output: Hello, Alice!\n",
    "print(\"Your weight is %.2f\" % weight)  # Output: Your balance is 70.62"
   ]
  },
  {
   "cell_type": "markdown",
   "metadata": {},
   "source": [
    "#### Using `str.format()` Method"
   ]
  },
  {
   "cell_type": "code",
   "execution_count": null,
   "metadata": {},
   "outputs": [],
   "source": [
    "name = \"Alice\"\n",
    "balance = 50.75\n",
    "\n",
    "# Using the .format() method\n",
    "print(\"Hello, {}!\".format(name))  # Output: Hello, Alice!\n",
    "print(\"Your balance is {:.2f}\".format(balance))  # Output: Your balance is 50.75\n",
    "\n",
    "\n",
    "print(\"Hello, {}. Your balance is {}.\".format(name, balance))  \n",
    "\n",
    "\n",
    "print(\"Hello, {name}. Your balance is {balance}.\".format(name=name, balance=balance))  \n"
   ]
  },
  {
   "cell_type": "markdown",
   "metadata": {},
   "source": [
    "#### Advanced String Formatting\n",
    "\n",
    "- Padding and Aligning Strings\n",
    "F-strings and str.format() allow you to align text and pad strings with spaces, zeros, or other characters.\n",
    "\n",
    "  - Align Left: :<(width)\n",
    "  - Align Right: :>(width)\n",
    "  - Center Align: :^(width)\n",
    "  - Padding: :0(width)"
   ]
  },
  {
   "cell_type": "code",
   "execution_count": null,
   "metadata": {},
   "outputs": [],
   "source": [
    "text = \"Python\"\n",
    "\n",
    "# Left align\n",
    "print(f\"{text:<10}\")  # Output: 'Python    '\n",
    "# Right align\n",
    "print(f\"{text:>10}\")  # Output: '    Python'\n",
    "# Center align\n",
    "print(f\"{text:^10}\")  # Output: '  Python  '\n",
    "# Pad with zeros\n",
    "number = 7\n",
    "print(f\"{number:03}\")  # Output: 007\n"
   ]
  },
  {
   "cell_type": "code",
   "execution_count": null,
   "metadata": {},
   "outputs": [],
   "source": [
    "# formating numbers\n",
    "\n",
    "price = 123456.789\n",
    "# Using f-strings\n",
    "print(f\"Price: {price:,.2f}\")  # Output: Price: 123,456.79\n",
    "\n",
    "percentage = 0.1234\n",
    "print(f\"Percentage: {percentage:.2%}\")  # Output: Percentage: 12.34%\n"
   ]
  },
  {
   "cell_type": "markdown",
   "metadata": {},
   "source": [
    "### Exercices\n",
    "\n",
    "#### EX1: piramide\n",
    "\n",
    "**Objective:**\n",
    "\n",
    "write program that creates piramide\n",
    "\n",
    "**Exemple :**\n",
    "\n",
    "Input: 5\n",
    "\n",
    "Output:\n",
    "```\n",
    "    *\n",
    "   ***\n",
    "  *****\n",
    " *******\n",
    "*********\n",
    "```\n"
   ]
  }
 ],
 "metadata": {
  "kernelspec": {
   "display_name": "Python 3",
   "language": "python",
   "name": "python3"
  },
  "language_info": {
   "codemirror_mode": {
    "name": "ipython",
    "version": 3
   },
   "file_extension": ".py",
   "mimetype": "text/x-python",
   "name": "python",
   "nbconvert_exporter": "python",
   "pygments_lexer": "ipython3",
   "version": "3.12.2"
  }
 },
 "nbformat": 4,
 "nbformat_minor": 2
}
