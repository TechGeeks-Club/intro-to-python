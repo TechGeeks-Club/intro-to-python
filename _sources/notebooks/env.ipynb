{
 "cells": [
  {
   "cell_type": "markdown",
   "metadata": {},
   "source": [
    "\n",
    "## 1. setup the enviroment\n",
    "- for linux \n",
    "    - ```bash\n",
    "        sudo apt install python3.13\n",
    "        ```\n",
    "- for Windows/mac\n",
    "    - go to this link : https://www.python.org/downloads/\n",
    "    - select your os\n",
    "    - download the installer\n",
    "\n",
    "<img src=\"../static/install_py1.png\" width=500 />\n",
    "<br>\n",
    "<img src=\"../static/install_py2.png\" width=500 />\n"
   ]
  }
 ],
 "metadata": {
  "kernelspec": {
   "display_name": "Python 3",
   "language": "python",
   "name": "python3"
  },
  "language_info": {
   "codemirror_mode": {
    "name": "ipython",
    "version": 3
   },
   "file_extension": ".py",
   "mimetype": "text/x-python",
   "name": "python",
   "nbconvert_exporter": "python",
   "pygments_lexer": "ipython3",
   "version": "3.12.2"
  }
 },
 "nbformat": 4,
 "nbformat_minor": 2
}
