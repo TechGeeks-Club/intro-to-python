{
 "cells": [
  {
   "cell_type": "markdown",
   "metadata": {},
   "source": [
    "# Introduction To Python\n",
    "\n",
    "## 1. setup the enviroment\n",
    "- for linux \n",
    "  - ```bash\n",
    "    sudo apt install python3.13\n",
    "    ```\n",
    "- for Windows/mac\n",
    "  - go to this link : https://www.python.org/downloads/\n",
    "  - select your os\n",
    "  - download the installer"
   ]
  }
 ],
 "metadata": {
  "language_info": {
   "name": "python"
  }
 },
 "nbformat": 4,
 "nbformat_minor": 2
}
