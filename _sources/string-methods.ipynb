{
 "cells": [
  {
   "cell_type": "markdown",
   "metadata": {},
   "source": [
    "## 3. String Methods\n",
    "---"
   ]
  },
  {
   "cell_type": "markdown",
   "metadata": {},
   "source": [
    "### Indexing and Slicing Strings in Python\n",
    "\n",
    "In Python, strings are sequences of characters. You can access individual characters or a range of characters (substring) using indexing and slicing.\n",
    "\n",
    "#### Indexing\n",
    "\n",
    "Indexing allows you to access individual characters in a string. The index starts from 0 for the first character and goes up to `n-1` for the last character, where `n` is the length of the string. You can also use negative indexing to access characters from the end of the string, where `-1` is the last character.\n",
    "\n",
    "**Example:**\n"
   ]
  },
  {
   "cell_type": "code",
   "execution_count": null,
   "metadata": {},
   "outputs": [],
   "source": [
    "text = \"Hello, World!\"\n",
    "print(text[0])   # Output: 'H'\n",
    "print(text[7])   # Output: 'W'\n",
    "print(text[-1])  # Output: '!'\n",
    "print(text[-5])  # Output: 'o'"
   ]
  },
  {
   "cell_type": "markdown",
   "metadata": {},
   "source": [
    "#### Slicing\n",
    "\n",
    "Slicing allows you to access a range of characters in a string. The syntax for slicing is `string[start:stop:step]`, where `start` is the index to begin the slice, `stop` is the index to end the slice (exclusive), and `step` is the step size.\n",
    "\n",
    "**Example:**"
   ]
  },
  {
   "cell_type": "code",
   "execution_count": null,
   "metadata": {},
   "outputs": [],
   "source": [
    "text = \"Hello, World!\"\n",
    "print(text[0:5])    # Output: 'Hello'\n",
    "print(text[7:12])   # Output: 'World'\n",
    "print(text[:5])     # Output: 'Hello' (same as text[0:5])\n",
    "print(text[7:])     # Output: 'World!' (same as text[7:13])\n",
    "print(text[::2])    # Output: 'Hlo ol!'\n",
    "print(text[::-1])   # Output: '!dlroW ,olleH' (reverses the string)"
   ]
  },
  {
   "cell_type": "markdown",
   "metadata": {},
   "source": [
    "---\n",
    "\n",
    "### Basic String Operations"
   ]
  },
  {
   "cell_type": "code",
   "execution_count": null,
   "metadata": {},
   "outputs": [],
   "source": [
    "# Single or double quotes\n",
    "string1 = 'Hello'\n",
    "string2 = \"World\"\n",
    "\n",
    "greeting = string1 + ' ' + string2\n",
    "print(greeting)  # Output: Hello World\n",
    "\n",
    "\n",
    "print(len(greeting))  # Output: 11"
   ]
  },
  {
   "cell_type": "markdown",
   "metadata": {},
   "source": [
    "--- \n",
    "\n",
    "### 3. Commonly Used String Methods\n",
    "\n",
    "- Changing Case:\n",
    "\n",
    "  - `upper()`: CONVERTS THE STRING TO UPERCASE.\n",
    "  - `lower()`: converts the string to lowercase.\n",
    "  - `capitalize()`: Capitalizes the first letter.\n",
    "  - `title()`: Capitalizes The First Letter Of Every Word.\n",
    "\n",
    "```python\n",
    "text = \"hello python\"\n",
    "print(text.upper())       # Output: HELLO PYTHON\n",
    "print(text.lower())       # Output: hello python\n",
    "print(text.capitalize())  # Output: Hello python\n",
    "print(text.title())       # Output: Hello Python\n",
    "```\n",
    "\n",
    "- Trimming Whitespaces:\n",
    "\n",
    "  - `strip()`: Removes leading and trailing whitespaces.\n",
    "  - `lstrip()`: Removes leading (left) whitespaces.\n",
    "  - `rstrip()`: Removes trailing (right) whitespaces.\n",
    "```python\n",
    "text = \"   Hello Python   \"\n",
    "print(text.strip())  # Output: Hello Python\n",
    "print(text.lstrip()) # Output: Hello Python   \n",
    "print(text.rstrip()) # Output:    Hello Python\n",
    "```\n",
    "\n",
    "- Searching in Strings:\n",
    "\n",
    "  - `find(substring)`: Returns the index of the first occurrence of a substring, or -1 if not found.\n",
    "  - `startswith(prefix)`: Checks if the string starts with the specified prefix.\n",
    "  - `endswith(suffix)`: Checks if the string ends with the specified suffix.\n",
    "```python\n",
    "text = \"Python is fun\"\n",
    "print(text.find(\"is\"))        # Output: 7\n",
    "print(text.startswith(\"Py\"))  # Output: True\n",
    "print(text.endswith(\"fun\"))   # Output: True\n",
    "```"
   ]
  },
  {
   "cell_type": "markdown",
   "metadata": {},
   "source": [
    "- Replacing and Splitting Strings:\n",
    "\n",
    "    - `replace(old, new)`: Replaces occurrences of a substring with another string.\n",
    "    - `split(delimiter)`: Splits a string into a list of substrings.\n",
    "    - `join(iterable)`: Joins elements of an iterable (e.g., list) into a single string."
   ]
  },
  {
   "cell_type": "code",
   "execution_count": null,
   "metadata": {},
   "outputs": [],
   "source": [
    "text = \"I love Python\"\n",
    "print(text.replace(\"love\", \"like\"))  # Output: I like Python\n",
    "\n",
    "text = \"apple,banana,grape\"\n",
    "print(text.split(\",\"))               # Output: ['apple', 'banana', 'grape']\n",
    "\n",
    "fruits = ['apple', 'banana', 'grape']\n",
    "print(\", \".join(fruits))             # Output: apple, banana, grape\n",
    "\n"
   ]
  },
  {
   "cell_type": "markdown",
   "metadata": {},
   "source": [
    "- Checking String Properties:\n",
    "\n",
    "    - `isalnum()`: Checks if the string contains only alphanumeric characters.\n",
    "    - `isalpha()`: Checks if the string contains only alphabetic characters.\n",
    "    - `isdigit()`: Checks if the string contains only digits.\n"
   ]
  },
  {
   "cell_type": "code",
   "execution_count": null,
   "metadata": {},
   "outputs": [],
   "source": [
    "text = \"Python123\"\n",
    "print(text.isalnum())  # Output: True\n",
    "print(text.isalpha())  # Output: False\n",
    "print(\"123\".isdigit()) # Output: True"
   ]
  }
 ],
 "metadata": {
  "language_info": {
   "name": "python"
  }
 },
 "nbformat": 4,
 "nbformat_minor": 2
}
